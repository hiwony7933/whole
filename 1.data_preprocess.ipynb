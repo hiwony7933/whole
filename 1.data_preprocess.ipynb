{
 "cells": [
  {
   "cell_type": "code",
   "execution_count": 11,
   "metadata": {},
   "outputs": [],
   "source": [
    "import os, glob, sys, numpy as np\n",
    "import cv2\n",
    "import shutil\n",
    "\n",
    "from PIL import Image\n",
    "from tqdm import tqdm\n",
    "from keras.preprocessing.image import ImageDataGenerator, array_to_img, img_to_array, load_img\n",
    "\n",
    "\n",
    "# images.shape = (None, 224, 244). value = 0~225\n",
    "def equalize_images(images):\n",
    "    return np.array([cv2.equalizeHist(image) for image in images])\n",
    "    \n",
    "def generate_images_for_data_augmentation(original_path, output_path, prefix, max_gen_count):\n",
    "    #create_output_path(output_path)\n",
    "    \n",
    "    file_list = os.listdir(original_path)\n",
    "    \n",
    "    datagen = ImageDataGenerator(  \n",
    "                rotation_range=10,\n",
    "                width_shift_range=0.01,\n",
    "                height_shift_range=0.01,\n",
    "                #shear_range=0.2,\n",
    "                zoom_range=0.1,\n",
    "                horizontal_flip=True,\n",
    "                fill_mode=\"nearest\")\n",
    "    \n",
    "    for filename in tqdm(file_list) :\n",
    "        # copy\n",
    "        shutil.copyfile(original_path + filename, output_path + filename)\n",
    "        \n",
    "        # generates\n",
    "        img = load_img(original_path  + filename)  # this is a PIL image\n",
    "        \n",
    "        img_data = img_to_array(img) # this is a Numpy array\n",
    "        img_data = img_data.reshape((1,) + img_data.shape)  # this is a Numpy array \n",
    "\n",
    "        # the .flow() command below generates batches of randomly transformed images\n",
    "        # and saves the results to the `preview/` directory\n",
    "        generated_count = 0\n",
    "        \n",
    "        for batch in datagen.flow(img_data, batch_size = 1,\n",
    "                                  save_to_dir=output_path, save_prefix=prefix, save_format=\"jpg\"):\n",
    "            generated_count += 1\n",
    "\n",
    "            if generated_count > max_gen_count:\n",
    "                break  # otherwise the generator would loop indefinitely"
   ]
  },
  {
   "cell_type": "code",
   "execution_count": 12,
   "metadata": {},
   "outputs": [
    {
     "output_type": "stream",
     "name": "stdout",
     "text": "Folders Make!!\nFolders Make!!\n"
    }
   ],
   "source": [
    "import shutil\n",
    "\n",
    "# 이미지 path\n",
    "fracture_path = './x-ray/fracture_resize_reverse_crop/'\n",
    "normal_path = './x-ray/Normal_resize_reverse_crop/'\n",
    "\n",
    "# 이미지 증강 path\n",
    "generate_fracture_path = './x-ray/generate_fracture/'\n",
    "generate_normal_path ='./x-ray/generate_normal/'\n",
    "path_category = [generate_fracture_path, generate_normal_path]\n",
    "\n",
    "# path folders Make \n",
    "for idx, folder in enumerate(path_category) :\n",
    "    if os.path.isdir(folder) : \n",
    "        shutil.rmtree(folder)\n",
    "        os.mkdir(folder)\n",
    "        print('Folders Make!!')\n",
    "    else : \n",
    "        os.mkdir(folder)\n",
    "        print('Folders Make!!')\n"
   ]
  },
  {
   "cell_type": "code",
   "execution_count": 13,
   "metadata": {},
   "outputs": [
    {
     "output_type": "stream",
     "name": "stderr",
     "text": "100%|██████████| 1075/1075 [00:41<00:00, 25.81it/s]\n100%|██████████| 695/695 [00:27<00:00, 25.43it/s]\n"
    }
   ],
   "source": [
    "# 이미지 증강\n",
    "generate_images_for_data_augmentation(fracture_path, generate_fracture_path, '', 10)\n",
    "generate_images_for_data_augmentation(normal_path, generate_normal_path, '', 10)"
   ]
  },
  {
   "cell_type": "code",
   "execution_count": 14,
   "metadata": {},
   "outputs": [
    {
     "output_type": "stream",
     "name": "stderr",
     "text": "100%|██████████| 8032/8032 [00:05<00:00, 1604.07it/s]\n(8032, 128, 128, 1)\n"
    }
   ],
   "source": [
    "# GAN_Data_set - facture_only\n",
    "X = []\n",
    "\n",
    "for file_name in tqdm(glob.glob(generate_fracture_path + '*.jpg')) :\n",
    "    img = Image.open(file_name).convert('L')\n",
    "    data = np.array(img)\n",
    "    # equalization\n",
    "    data = equalize_images(data) \n",
    "    X.append(data)\n",
    "\n",
    "fracture_train = np.array(X)\n",
    "# normalization -1 ~ 1\n",
    "fracture_train = (fracture_train - 127.5) / 127.5\n",
    "print(fracture_train.shape)"
   ]
  },
  {
   "cell_type": "code",
   "execution_count": 15,
   "metadata": {},
   "outputs": [],
   "source": [
    "np.save('./npy/fracture_train.npy',fracture_train)"
   ]
  },
  {
   "cell_type": "code",
   "execution_count": 16,
   "metadata": {},
   "outputs": [
    {
     "output_type": "stream",
     "name": "stderr",
     "text": "100%|██████████| 6032/6032 [00:05<00:00, 1139.29it/s]\n(6032, 128, 128, 1)\n"
    }
   ],
   "source": [
    "# normal data set \n",
    "X_ = []\n",
    "\n",
    "for file_name in tqdm(glob.glob(generate_normal_path + '*.jpg')) :\n",
    "    img = Image.open(file_name).convert('L')\n",
    "    data = np.array(img)\n",
    "    # equalization\n",
    "    data = equalize_images(data)\n",
    "    X_.append(data)\n",
    "\n",
    "normal_train = np.array(X_)\n",
    "# normalization -1 ~ 1\n",
    "normal_train = (normal_train - 127.5) / 127.5\n",
    "print(normal_train.shape)"
   ]
  },
  {
   "cell_type": "code",
   "execution_count": 17,
   "metadata": {},
   "outputs": [],
   "source": [
    "np.save('./npy/normal_train.npy',normal_train)"
   ]
  },
  {
   "cell_type": "code",
   "execution_count": 18,
   "metadata": {},
   "outputs": [
    {
     "output_type": "stream",
     "name": "stdout",
     "text": "normal data (6032, 128, 128, 1) (6032, 1)\nfacture data (6032, 128, 128, 1) (6032, 1)\n"
    }
   ],
   "source": [
    "# Classfication 사용할 Data set 만들기\n",
    "# fracture 와 normal data 1:1 비율\n",
    "\n",
    "# normal_train 개수 확인 \n",
    "train_len = normal_train.shape[0]\n",
    "normal_train_x = normal_train\n",
    "\n",
    "# facture data 개수를 Normal_data 개수와 맞추기 \n",
    "fracture_train_x = fracture_train[ : train_len]\n",
    "\n",
    "# y_label create\n",
    "normal_train_y = np.zeros((train_len, 1)) # 비골절 0\n",
    "fracture_train_y = np.ones((train_len, 1)) # 골절 1\n",
    "\n",
    "print('normal data',normal_train_x.shape, normal_train_y.shape)\n",
    "print('facture data',fracture_train_x.shape, fracture_train_y.shape)"
   ]
  },
  {
   "cell_type": "code",
   "execution_count": 19,
   "metadata": {},
   "outputs": [
    {
     "output_type": "stream",
     "name": "stdout",
     "text": "X_train (10857, 128, 128, 1)\nX_test  (1207, 128, 128, 1)\nY_train (10857, 1)\nY_test  (1207, 1)\n[[0.]\n [1.]\n [1.]\n [0.]\n [0.]]\n"
    }
   ],
   "source": [
    "# fracture + normal \n",
    "x = np.append(normal_train_x, fracture_train_x, axis = 0)\n",
    "y = np.append(normal_train_y, fracture_train_y, axis = 0)\n",
    "\n",
    "# data shuffle\n",
    "shuffled_index = np.random.permutation(x.shape[0])\n",
    "x = x[shuffled_index,:,:]\n",
    "y = y[shuffled_index]\n",
    "\n",
    "# data ready \n",
    "split_index = int(x.shape[0] * 0.9)\n",
    "X_train_c, X_test = x[:split_index], x[split_index:]\n",
    "Y_train_c, Y_test = y[:split_index], y[split_index:]\n",
    "\n",
    "print('X_train', X_train_c.shape)\n",
    "print('X_test ', X_test.shape)\n",
    "print('Y_train', Y_train_c.shape)\n",
    "print('Y_test ', Y_test.shape)\n",
    "\n",
    "print(Y_test[:5]) # 0과 1이 섞여 있으면 suffle 성공"
   ]
  },
  {
   "cell_type": "code",
   "execution_count": 20,
   "metadata": {},
   "outputs": [],
   "source": [
    "xy = (X_train_c, X_test, Y_train_c, Y_test)\n",
    "np.save('./npy/classify_train.npy', xy)"
   ]
  }
 ],
 "metadata": {
  "kernelspec": {
   "display_name": "Python 3.7.4 64-bit ('anaconda3': conda)",
   "language": "python",
   "name": "python37464bitanaconda3condae788c5fa592f4db3927eca9f2fe371f6"
  },
  "language_info": {
   "codemirror_mode": {
    "name": "ipython",
    "version": 3
   },
   "file_extension": ".py",
   "mimetype": "text/x-python",
   "name": "python",
   "nbconvert_exporter": "python",
   "pygments_lexer": "ipython3",
   "version": "3.7.4-final"
  }
 },
 "nbformat": 4,
 "nbformat_minor": 2
}